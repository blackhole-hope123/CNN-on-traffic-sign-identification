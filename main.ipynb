{
 "cells": [
  {
   "cell_type": "code",
   "execution_count": 2,
   "id": "a9969345",
   "metadata": {},
   "outputs": [
    {
     "name": "stdout",
     "output_type": "stream",
     "text": [
      "Data preprocessing completed.\n"
     ]
    },
    {
     "name": "stderr",
     "output_type": "stream",
     "text": [
      "c:\\Users\\smile\\AppData\\Local\\Programs\\Python\\Python312\\Lib\\site-packages\\keras\\src\\layers\\convolutional\\base_conv.py:107: UserWarning: Do not pass an `input_shape`/`input_dim` argument to a layer. When using Sequential models, prefer using an `Input(shape)` object as the first layer in the model instead.\n",
      "  super().__init__(activity_regularizer=activity_regularizer, **kwargs)\n"
     ]
    },
    {
     "name": "stdout",
     "output_type": "stream",
     "text": [
      "Model trained.\n",
      "Epoch 1/10\n",
      "\u001b[1m1226/1226\u001b[0m \u001b[32m━━━━━━━━━━━━━━━━━━━━\u001b[0m\u001b[37m\u001b[0m \u001b[1m336s\u001b[0m 265ms/step - accuracy: 0.6227 - loss: 10.7216\n",
      "Epoch 2/10\n",
      "\u001b[1m1226/1226\u001b[0m \u001b[32m━━━━━━━━━━━━━━━━━━━━\u001b[0m\u001b[37m\u001b[0m \u001b[1m307s\u001b[0m 250ms/step - accuracy: 0.8734 - loss: 2.8247\n",
      "Epoch 3/10\n",
      "\u001b[1m1226/1226\u001b[0m \u001b[32m━━━━━━━━━━━━━━━━━━━━\u001b[0m\u001b[37m\u001b[0m \u001b[1m310s\u001b[0m 253ms/step - accuracy: 0.8927 - loss: 1.9762\n",
      "Epoch 4/10\n",
      "\u001b[1m1226/1226\u001b[0m \u001b[32m━━━━━━━━━━━━━━━━━━━━\u001b[0m\u001b[37m\u001b[0m \u001b[1m328s\u001b[0m 258ms/step - accuracy: 0.9045 - loss: 1.6277\n",
      "Epoch 5/10\n",
      "\u001b[1m1226/1226\u001b[0m \u001b[32m━━━━━━━━━━━━━━━━━━━━\u001b[0m\u001b[37m\u001b[0m \u001b[1m373s\u001b[0m 305ms/step - accuracy: 0.9082 - loss: 1.4465\n",
      "Epoch 6/10\n",
      "\u001b[1m1226/1226\u001b[0m \u001b[32m━━━━━━━━━━━━━━━━━━━━\u001b[0m\u001b[37m\u001b[0m \u001b[1m285s\u001b[0m 225ms/step - accuracy: 0.9108 - loss: 1.3763\n",
      "Epoch 7/10\n",
      "\u001b[1m1226/1226\u001b[0m \u001b[32m━━━━━━━━━━━━━━━━━━━━\u001b[0m\u001b[37m\u001b[0m \u001b[1m406s\u001b[0m 332ms/step - accuracy: 0.9080 - loss: 1.3591\n",
      "Epoch 8/10\n",
      "\u001b[1m1226/1226\u001b[0m \u001b[32m━━━━━━━━━━━━━━━━━━━━\u001b[0m\u001b[37m\u001b[0m \u001b[1m351s\u001b[0m 286ms/step - accuracy: 0.9230 - loss: 1.1330\n",
      "Epoch 9/10\n",
      "\u001b[1m1226/1226\u001b[0m \u001b[32m━━━━━━━━━━━━━━━━━━━━\u001b[0m\u001b[37m\u001b[0m \u001b[1m367s\u001b[0m 299ms/step - accuracy: 0.9160 - loss: 1.1311\n",
      "Epoch 10/10\n",
      "\u001b[1m1226/1226\u001b[0m \u001b[32m━━━━━━━━━━━━━━━━━━━━\u001b[0m\u001b[37m\u001b[0m \u001b[1m375s\u001b[0m 306ms/step - accuracy: 0.9230 - loss: 1.0684\n",
      "395/395 - 24s - 61ms/step - accuracy: 0.9298 - loss: 1.0568\n"
     ]
    },
    {
     "data": {
      "text/plain": [
       "[1.0568299293518066, 0.9297704100608826]"
      ]
     },
     "execution_count": 2,
     "metadata": {},
     "output_type": "execute_result"
    }
   ],
   "source": [
    "import tensorflow as tf\n",
    "import numpy as np\n",
    "import os\n",
    "from utils import get_model, draw_heatmap, data_preprocessing\n",
    "import sys\n",
    "EPOCHS = 10\n",
    "IMG_WIDTH=30\n",
    "IMG_HEIGHT=30\n",
    "  \n",
    "\n",
    "# load the train and test data\n",
    "data = np.load(\"traffic_data.npz\")\n",
    "x_train, y_train, x_test, y_test = data[\"x_train\"], data[\"y_train\"], data[\"x_test\"], data[\"y_test\"]\n",
    "x_train, x_test, x_train_mean,x_train_std = data_preprocessing(x_train, x_test)\n",
    "\n",
    "# one hot encoding\n",
    "y_train = tf.keras.utils.to_categorical(y_train)\n",
    "y_test = tf.keras.utils.to_categorical(y_test)\n",
    "\n",
    "# a possible value of dropout_rates and regularizer_strengths for overfitting\n",
    "dropout_rate=0.1\n",
    "regularizer_strength=0.3\n",
    "\n",
    "model = get_model(dropout_rate,regularizer_strength, batch_normalization=True, img_width=IMG_WIDTH, img_height=IMG_HEIGHT)\n",
    "\n",
    "model.fit(x_train, y_train, epochs=EPOCHS, batch_size=32)\n",
    "\n",
    "# Evaluate neural network performance\n",
    "model.evaluate(x_test, y_test, verbose=2, batch_size=32)"
   ]
  },
  {
   "cell_type": "code",
   "execution_count": 3,
   "id": "ea7b8657",
   "metadata": {},
   "outputs": [
    {
     "name": "stdout",
     "output_type": "stream",
     "text": [
      "Model saved to model.keras.\n"
     ]
    }
   ],
   "source": [
    "# save the model to a file\n",
    "filename = \"model.keras\"\n",
    "model_folder=\"results/Model\"\n",
    "os.makedirs(model_folder, exist_ok=True)\n",
    "model_path=os.path.join(model_folder, filename)\n",
    "model.save(model_path)\n",
    "print(f\"Model saved to {filename}.\")\n"
   ]
  }
 ],
 "metadata": {
  "kernelspec": {
   "display_name": "Python 3",
   "language": "python",
   "name": "python3"
  },
  "language_info": {
   "codemirror_mode": {
    "name": "ipython",
    "version": 3
   },
   "file_extension": ".py",
   "mimetype": "text/x-python",
   "name": "python",
   "nbconvert_exporter": "python",
   "pygments_lexer": "ipython3",
   "version": "3.12.9"
  }
 },
 "nbformat": 4,
 "nbformat_minor": 5
}
